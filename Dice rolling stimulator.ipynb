{
 "cells": [
  {
   "cell_type": "code",
   "execution_count": 19,
   "metadata": {},
   "outputs": [],
   "source": [
    "import tkinter\n",
    "from PIL import Image, ImageTk\n",
    "import random\n",
    "\n",
    "root = tkinter.Tk()\n",
    "root.geometry('500x500')\n",
    "root.title('Roll the Dice')\n",
    "root.config(bg ='black')\n",
    "\n",
    "# label into the frame\n",
    "BlankLine = tkinter.Label(root, text=\"\", bg=\"black\")\n",
    "BlankLine.pack()\n",
    "#different font and formatting\n",
    "HeadingLabel = tkinter.Label(root, text=\"Hello!\", fg = \"black\", bg = \"white\", font = \"Helvetica 16 bold italic\")\n",
    "HeadingLabel.pack()\n",
    "\n",
    "\n",
    "# images\n",
    "dice = ['die1.jpg', 'die2.jpg', 'die3.jpg', 'die4.jpg', 'die5.jpg', 'die6.jpg']\n",
    "# simulating the dice with random numbers between 0 to 6 and generating image\n",
    "DiceImage = ImageTk.PhotoImage(Image.open(random.choice(dice)))\n",
    "\n",
    "# construct a label widget for image\n",
    "ImageLabel = tkinter.Label(root, image=DiceImage)\n",
    "ImageLabel.image = DiceImage\n",
    "# packing a widget in the parent widget #if we resize the screen the image will be in center\n",
    "ImageLabel.pack(expand=True)\n",
    "\n",
    "# function activated by button\n",
    "def rolling_dice():\n",
    "    DiceImage = ImageTk.PhotoImage(Image.open(random.choice(dice)))\n",
    "    # update image\n",
    "    ImageLabel.configure(image=DiceImage)\n",
    "    # keep a reference\n",
    "    ImageLabel.image = DiceImage\n",
    "# adding button, and command will use rolling_dice function\n",
    "button = tkinter.Button(root, text='Roll the Dice', fg='black', command=rolling_dice)\n",
    "# pack a widget in the parent widget\n",
    "button.pack(expand=True)\n",
    "\n",
    "# call the mainloop of Tk- keeps window open\n",
    "root.mainloop()"
   ]
  },
  {
   "cell_type": "code",
   "execution_count": null,
   "metadata": {},
   "outputs": [],
   "source": []
  },
  {
   "cell_type": "code",
   "execution_count": null,
   "metadata": {},
   "outputs": [],
   "source": []
  }
 ],
 "metadata": {
  "kernelspec": {
   "display_name": "Python 3",
   "language": "python",
   "name": "python3"
  },
  "language_info": {
   "codemirror_mode": {
    "name": "ipython",
    "version": 3
   },
   "file_extension": ".py",
   "mimetype": "text/x-python",
   "name": "python",
   "nbconvert_exporter": "python",
   "pygments_lexer": "ipython3",
   "version": "3.7.1"
  }
 },
 "nbformat": 4,
 "nbformat_minor": 2
}
